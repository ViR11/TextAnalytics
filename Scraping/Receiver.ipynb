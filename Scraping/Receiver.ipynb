{
 "cells": [
  {
   "cell_type": "code",
   "execution_count": null,
   "metadata": {
    "collapsed": true
   },
   "outputs": [],
   "source": [
    "import threading\n",
    "import Queue\n",
    "import time\n",
    "from pyspark.streaming import StreamingContext"
   ]
  },
  {
   "cell_type": "code",
   "execution_count": null,
   "metadata": {
    "collapsed": true
   },
   "outputs": [],
   "source": [
    "BATCH_INTERVAL = 10   # How frequently to update (seconds)\n",
    "WINDOWS_LENGTH = 60   # the duration of the window\n",
    "SLIDING_INTERVAL = 20 # the interval at which the window operation is performed"
   ]
  },
  {
   "cell_type": "code",
   "execution_count": null,
   "metadata": {
    "collapsed": false
   },
   "outputs": [],
   "source": [
    "#To setup the streaming data\n",
    "ssc = StreamingContext(sc, BATCH_INTERVAL)\n",
    "#ssc.checkpoint(\"checkpoint\")\n",
    "\n",
    "# Create a DStream that will connect to hostname:port, like localhost:9999\n",
    "dstream = ssc.socketTextStream(\"localhost\", 8889)\n",
    "dstreamwin=dstream.window(WINDOWS_LENGTH, SLIDING_INTERVAL)\n",
    "\n",
    "dstream_tweets=dstream.map(lambda post: get_json(post))\n",
    "    \n",
    "dstream_tweets.pprint()"
   ]
  },
  {
   "cell_type": "code",
   "execution_count": null,
   "metadata": {
    "collapsed": false
   },
   "outputs": [],
   "source": [
    "ssc.start()\n",
    "ssc.awaitTermination()"
   ]
  },
  {
   "cell_type": "code",
   "execution_count": null,
   "metadata": {
    "collapsed": true
   },
   "outputs": [],
   "source": [
    "dstream_tweets=dstream.map(lambda post: get_json(post))\\\n",
    "     .filter(lambda post: post != False)\\\n",
    "     .filter(lambda post: 'created_at' in post)\\\n",
    "     .map(lambda post: (get_coord2(post)[0],get_coord2(post)[1],post[\"text\"]))\\\n",
    "     .filter(lambda tpl: tpl[0] != 0)\\\n",
    "     .filter(lambda tpl: tpl[2] != '')\\\n",
    "     .map(lambda tpl: (tpl[0],tpl[1],tokenize(tpl[2])))\\\n",
    "     .map(lambda tpl:(tpl[0],tpl[1],tpl[2],doc2vec(tpl[2])))"
   ]
  },
  {
   "cell_type": "code",
   "execution_count": null,
   "metadata": {
    "collapsed": true
   },
   "outputs": [],
   "source": []
  }
 ],
 "metadata": {
  "kernelspec": {
   "display_name": "Python 2",
   "language": "python",
   "name": "python2"
  },
  "language_info": {
   "codemirror_mode": {
    "name": "ipython",
    "version": 2
   },
   "file_extension": ".py",
   "mimetype": "text/x-python",
   "name": "python",
   "nbconvert_exporter": "python",
   "pygments_lexer": "ipython2",
   "version": "2.7.12"
  },
  "widgets": {
   "state": {},
   "version": "1.1.2"
  }
 },
 "nbformat": 4,
 "nbformat_minor": 0
}
