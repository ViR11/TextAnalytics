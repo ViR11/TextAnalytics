{
 "cells": [
  {
   "cell_type": "markdown",
   "metadata": {},
   "source": [
    "# NLTK import and corpora download"
   ]
  },
  {
   "cell_type": "code",
   "execution_count": 2,
   "metadata": {
    "collapsed": true
   },
   "outputs": [],
   "source": [
    "import nltk"
   ]
  },
  {
   "cell_type": "markdown",
   "metadata": {},
   "source": [
    "## import book corpora only"
   ]
  },
  {
   "cell_type": "code",
   "execution_count": 3,
   "metadata": {
    "collapsed": false
   },
   "outputs": [
    {
     "name": "stdout",
     "output_type": "stream",
     "text": [
      "showing info https://raw.githubusercontent.com/nltk/nltk_data/gh-pages/index.xml\n"
     ]
    },
    {
     "data": {
      "text/plain": [
       "True"
      ]
     },
     "execution_count": 3,
     "metadata": {},
     "output_type": "execute_result"
    }
   ],
   "source": [
    "nltk.download()"
   ]
  },
  {
   "cell_type": "code",
   "execution_count": 4,
   "metadata": {
    "collapsed": false
   },
   "outputs": [
    {
     "name": "stdout",
     "output_type": "stream",
     "text": [
      "*** Introductory Examples for the NLTK Book ***\n",
      "Loading text1, ..., text9 and sent1, ..., sent9\n",
      "Type the name of the text or sentence to view it.\n",
      "Type: 'texts()' or 'sents()' to list the materials.\n",
      "text1: Moby Dick by Herman Melville 1851\n",
      "text2: Sense and Sensibility by Jane Austen 1811\n",
      "text3: The Book of Genesis\n",
      "text4: Inaugural Address Corpus\n",
      "text5: Chat Corpus\n",
      "text6: Monty Python and the Holy Grail\n",
      "text7: Wall Street Journal\n",
      "text8: Personals Corpus\n",
      "text9: The Man Who Was Thursday by G . K . Chesterton 1908\n"
     ]
    }
   ],
   "source": [
    "from nltk.book import *"
   ]
  },
  {
   "cell_type": "code",
   "execution_count": 5,
   "metadata": {
    "collapsed": false
   },
   "outputs": [
    {
     "data": {
      "text/plain": [
       "<Text: Moby Dick by Herman Melville 1851>"
      ]
     },
     "execution_count": 5,
     "metadata": {},
     "output_type": "execute_result"
    }
   ],
   "source": [
    "text1"
   ]
  },
  {
   "cell_type": "markdown",
   "metadata": {},
   "source": [
    "### Cargar El Quijote"
   ]
  },
  {
   "cell_type": "code",
   "execution_count": 49,
   "metadata": {
    "collapsed": false
   },
   "outputs": [],
   "source": [
    "import urllib \n",
    "url = \"http://www.gutenberg.org/cache/epub/2000/pg2000.txt\"\n",
    "response = urllib.urlopen(url)"
   ]
  },
  {
   "cell_type": "code",
   "execution_count": 50,
   "metadata": {
    "collapsed": true
   },
   "outputs": [],
   "source": [
    "quijote = response.read().decode('utf8')"
   ]
  },
  {
   "cell_type": "code",
   "execution_count": 51,
   "metadata": {
    "collapsed": false
   },
   "outputs": [
    {
     "data": {
      "text/plain": [
       "unicode"
      ]
     },
     "execution_count": 51,
     "metadata": {},
     "output_type": "execute_result"
    }
   ],
   "source": [
    "type(quijote)"
   ]
  },
  {
   "cell_type": "code",
   "execution_count": 52,
   "metadata": {
    "collapsed": false
   },
   "outputs": [
    {
     "data": {
      "text/plain": [
       "2155359"
      ]
     },
     "execution_count": 52,
     "metadata": {},
     "output_type": "execute_result"
    }
   ],
   "source": [
    "len(quijote)"
   ]
  },
  {
   "cell_type": "code",
   "execution_count": 53,
   "metadata": {
    "collapsed": false
   },
   "outputs": [
    {
     "data": {
      "text/plain": [
       "u'\\ufeffThe Project Gutenberg EBook of Don Quijote, by Miguel de Cervantes Saavedra\\r\\n\\r\\nThis eBook is for the use of anyone anywhere at no cost and with\\r\\nalmost no restrictions whatsoever.  You may copy it, give it away or\\r\\nre-use it under the terms of the Project Gutenberg License included\\r\\nwith this eBook'"
      ]
     },
     "execution_count": 53,
     "metadata": {},
     "output_type": "execute_result"
    }
   ],
   "source": [
    "quijote[:300]"
   ]
  },
  {
   "cell_type": "code",
   "execution_count": 55,
   "metadata": {
    "collapsed": false
   },
   "outputs": [],
   "source": [
    "quijote_tokens = nltk.word_tokenize(quijote)"
   ]
  },
  {
   "cell_type": "code",
   "execution_count": 57,
   "metadata": {
    "collapsed": false
   },
   "outputs": [
    {
     "data": {
      "text/plain": [
       "list"
      ]
     },
     "execution_count": 57,
     "metadata": {},
     "output_type": "execute_result"
    }
   ],
   "source": [
    "type(quijote_tokens)"
   ]
  },
  {
   "cell_type": "code",
   "execution_count": 58,
   "metadata": {
    "collapsed": false
   },
   "outputs": [
    {
     "data": {
      "text/plain": [
       "441842"
      ]
     },
     "execution_count": 58,
     "metadata": {},
     "output_type": "execute_result"
    }
   ],
   "source": [
    "len(quijote_tokens)"
   ]
  },
  {
   "cell_type": "code",
   "execution_count": 69,
   "metadata": {
    "collapsed": false
   },
   "outputs": [
    {
     "data": {
      "text/plain": [
       "[u'digna',\n",
       " u'que',\n",
       " u'no',\n",
       " u'corresponda',\n",
       " u'a',\n",
       " u'su',\n",
       " u'original',\n",
       " u';',\n",
       " u'en',\n",
       " u'testimonio']"
      ]
     },
     "execution_count": 69,
     "metadata": {},
     "output_type": "execute_result"
    }
   ],
   "source": [
    "quijote_tokens[300:310]"
   ]
  },
  {
   "cell_type": "code",
   "execution_count": 71,
   "metadata": {
    "collapsed": false
   },
   "outputs": [],
   "source": [
    "quijote_text = nltk.Text(quijote_tokens)"
   ]
  },
  {
   "cell_type": "code",
   "execution_count": 72,
   "metadata": {
    "collapsed": false
   },
   "outputs": [
    {
     "data": {
      "text/plain": [
       "nltk.text.Text"
      ]
     },
     "execution_count": 72,
     "metadata": {},
     "output_type": "execute_result"
    }
   ],
   "source": [
    "type(quijote_text)"
   ]
  },
  {
   "cell_type": "code",
   "execution_count": 73,
   "metadata": {
    "collapsed": false
   },
   "outputs": [
    {
     "data": {
      "text/plain": [
       "441842"
      ]
     },
     "execution_count": 73,
     "metadata": {},
     "output_type": "execute_result"
    }
   ],
   "source": [
    "len(quijote_text)"
   ]
  },
  {
   "cell_type": "markdown",
   "metadata": {},
   "source": [
    "### Text concordance"
   ]
  },
  {
   "cell_type": "code",
   "execution_count": 6,
   "metadata": {
    "collapsed": false
   },
   "outputs": [
    {
     "name": "stdout",
     "output_type": "stream",
     "text": [
      "Displaying 19 of 19 matches:\n",
      "azed , and wondered what monstrous cannibal and savage could ever have gone a \n",
      "e holy Sabbath , engaged in such a cannibal business as selling the heads of d\n",
      "t was extinguished , and this wild cannibal , tomahawk between his teeth , spr\n",
      " , I kill - e !\" again growled the cannibal , while his horrid flourishings of\n",
      "hat that infernal harpooneer was a cannibal ?\" \" I thought ye know ' d it ;-- \n",
      "the whole a clean , comely looking cannibal . What ' s all this fuss I have be\n",
      "of him . Better sleep with a sober cannibal than a drunken Christian . \" Landl\n",
      "ge house in the broad day , with a cannibal and a tomahawk ! \" Queequeg !-- in\n",
      "h sadly vitiated , I fear , by the cannibal propensity he nourished in his unt\n",
      "tain , \" I ' ll kill - e YOU , you cannibal , if you try any more of your tric\n",
      " . She was a thing of trophies . A cannibal of a craft , tricking herself fort\n",
      " had not suspected my friend was a cannibal , and furthermore announcing that \n",
      "that sight take a tooth out of the cannibal ' s jaw ? Cannibals ? who is not a\n",
      "' s jaw ? Cannibals ? who is not a cannibal ? I tell you it will be more toler\n",
      "to kindle a fire in this shivering cannibal ? Ginger !-- what the devil is gin\n",
      "the Zodiac himself . What says the Cannibal ? As I live he ' s comparing notes\n",
      " they had been lost by some little cannibal urchins , the priest ' s children \n",
      "tiered sharks , and thy kidnapping cannibal ways . Let faith oust fact ; let f\n",
      "nd his mother tells him of me , of cannibal old me ; how I am abroad upon the \n"
     ]
    }
   ],
   "source": [
    "text1.concordance(\"cannibal\")"
   ]
  },
  {
   "cell_type": "code",
   "execution_count": 8,
   "metadata": {
    "collapsed": false
   },
   "outputs": [
    {
     "name": "stdout",
     "output_type": "stream",
     "text": [
      "Displaying 6 of 6 matches:\n",
      "nected with it , then am I ready to shiver fifty lances with you there , and u\n",
      "p , he died a coward ; died all a ' shiver ;-- out upon Pip ! Hark ye ; if ye \n",
      "! Hard down the helm !-- brace up ! Shiver her !-- shiver her !-- So ; well th\n",
      " helm !-- brace up ! Shiver her !-- shiver her !-- So ; well that ! Boats , bo\n",
      "en his neighbors ! Cold , cold -- I shiver !-- How now ? Aloft there ! D ' ye \n",
      "ch the contents turned to ice , and shiver it . And still this hair is growing\n"
     ]
    }
   ],
   "source": [
    "text1.concordance(\"shiver\")"
   ]
  },
  {
   "cell_type": "code",
   "execution_count": 80,
   "metadata": {
    "collapsed": false
   },
   "outputs": [
    {
     "name": "stdout",
     "output_type": "stream",
     "text": [
      "Displaying 25 of 88 matches:\n",
      " mal criado , pues vuestra lengua de asno al amo ultraja . R. Asno se es de la\n",
      "a lengua de asno al amo ultraja . R. Asno se es de la cuna a la mortaja . ¿Que\n",
      "omó de la rienda , y del cabestro al asno , y se encaminó hacia su pueblo , bi\n",
      " , y que ansimesmo pensaba llevar un asno que tenía muy bueno , porque él no e\n",
      "echo a andar mucho a pie . En lo del asno reparó un poco don Quijote , imagina\n",
      " socorrerle , a todo el correr de su asno , y cuando llegó halló que no se pod\n",
      "fraile , apeándose ligeramente de su asno , arremetió a él y le comenzó a quit\n",
      " Panza , que tenía del cabestro a su asno , a los pies del cual estaba otro ré\n",
      "obre Rocinante ; y él subió sobre su asno y comenzó a seguir a su señor , que \n",
      "cer , caballero sobre un muy hermoso asno . -Verdad será que él debía de ir ca\n",
      "; y con todo este trabajo aparejó su asno , que también había andado algo dest\n",
      "ancho acomodó a don Quijote sobre el asno y puso de reata a Rocinante ; y , ll\n",
      " reata a Rocinante ; y , llevando al asno de cabestro , se encaminó , poco más\n",
      "e vio a don Quijote atravesado en el asno , preguntó a Sancho qué mal traía . \n",
      "mbién ayudó a vestir y a subir en el asno . Púsose luego a caballo , y , llegá\n",
      "legaron a Sancho , y , apeándole del asno , uno dellos entró por la manta de l\n",
      "ados le dejaron . Trujéronle allí su asno , y , subiéndole encima , le arropar\n",
      "ió Sancho , dio de los carcaños a su asno , y , abriéndole la puerta de la ven\n",
      "ho- , pero , ¿dónde pondremos a este asno que estemos ciertos de hallarle desp\n",
      "r verdad lo que te digo : sube en tu asno y síguelos bonitamente , y verás cóm\n",
      " como de perlas . Acudió Sancho a su asno para sacar de las alforjas con qué l\n",
      "escudero estaba , de pechos sobre su asno , con la mano en la mejilla , en gui\n",
      "sigo ; tiró el uno del cabestro a su asno , y el otro de las riendas a su roci\n",
      "vo a la hogaza . Y , antecogiendo su asno , rogó a su señor que le siguiese ; \n",
      "cinante , y Sancho del cabestro a su asno , después de haber puesto sobre él l\n"
     ]
    }
   ],
   "source": [
    "quijote_text.concordance(\"asno\")"
   ]
  },
  {
   "cell_type": "code",
   "execution_count": null,
   "metadata": {
    "collapsed": true
   },
   "outputs": [],
   "source": []
  },
  {
   "cell_type": "markdown",
   "metadata": {},
   "source": [
    "### Words in similar range of contexts "
   ]
  },
  {
   "cell_type": "code",
   "execution_count": 10,
   "metadata": {
    "collapsed": false
   },
   "outputs": [
    {
     "name": "stdout",
     "output_type": "stream",
     "text": [
      "had is turned attains mannerly paused wasted reads dropped bore\n",
      "complied sat needs waning rose chased goes was merciless wicked\n"
     ]
    }
   ],
   "source": [
    "text1.similar(\"shivering\")"
   ]
  },
  {
   "cell_type": "code",
   "execution_count": 13,
   "metadata": {
    "collapsed": false
   },
   "outputs": [
    {
     "name": "stdout",
     "output_type": "stream",
     "text": [
      "oh\n"
     ]
    }
   ],
   "source": [
    "text6.similar(\"shivering\")"
   ]
  },
  {
   "cell_type": "code",
   "execution_count": 14,
   "metadata": {
    "collapsed": false
   },
   "outputs": [
    {
     "name": "stdout",
     "output_type": "stream",
     "text": [
      "No matches\n"
     ]
    }
   ],
   "source": [
    "text9.similar(\"shivering\")"
   ]
  },
  {
   "cell_type": "code",
   "execution_count": 15,
   "metadata": {
    "collapsed": false
   },
   "outputs": [
    {
     "name": "stdout",
     "output_type": "stream",
     "text": [
      "hell see be me do play tell himself take thicken despise all sleep\n",
      "shake go marching him arrest snap ours\n"
     ]
    }
   ],
   "source": [
    "text9.similar(\"kill\")"
   ]
  },
  {
   "cell_type": "code",
   "execution_count": 82,
   "metadata": {
    "collapsed": false
   },
   "outputs": [
    {
     "name": "stdout",
     "output_type": "stream",
     "text": [
      "escudero padre camino señor caballo amo aposento castillo nombre\n",
      "jumento caballero alma reino corazón lugar gobierno cuerpo pueblo\n",
      "rostro rey\n"
     ]
    }
   ],
   "source": [
    "quijote_text.similar(\"asno\")"
   ]
  },
  {
   "cell_type": "markdown",
   "metadata": {},
   "source": [
    "### Words in common contexts"
   ]
  },
  {
   "cell_type": "code",
   "execution_count": 25,
   "metadata": {
    "collapsed": false
   },
   "outputs": [
    {
     "name": "stdout",
     "output_type": "stream",
     "text": [
      "to_and and_this\n"
     ]
    }
   ],
   "source": [
    "text1.common_contexts([\"death\", \"kill\"])"
   ]
  },
  {
   "cell_type": "code",
   "execution_count": 26,
   "metadata": {
    "collapsed": false
   },
   "outputs": [
    {
     "name": "stdout",
     "output_type": "stream",
     "text": [
      "the_at a_and the_they a_s the_to the_is a_of a_because the_for\n"
     ]
    }
   ],
   "source": [
    "text1.common_contexts([\"whale\", \"sailor\"])"
   ]
  },
  {
   "cell_type": "code",
   "execution_count": 27,
   "metadata": {
    "collapsed": false
   },
   "outputs": [
    {
     "name": "stdout",
     "output_type": "stream",
     "text": [
      "the_at the_called the_they a_s the_to the_is a_of the_for\n"
     ]
    }
   ],
   "source": [
    "text1.common_contexts([\"ship\", \"sailor\"])"
   ]
  },
  {
   "cell_type": "code",
   "execution_count": 28,
   "metadata": {
    "collapsed": false
   },
   "outputs": [
    {
     "name": "stdout",
     "output_type": "stream",
     "text": [
      "No common contexts were found\n"
     ]
    }
   ],
   "source": [
    "text1.common_contexts([\"child\", \"fork\"])"
   ]
  },
  {
   "cell_type": "code",
   "execution_count": 29,
   "metadata": {
    "collapsed": false
   },
   "outputs": [
    {
     "name": "stdout",
     "output_type": "stream",
     "text": [
      "his_and\n"
     ]
    }
   ],
   "source": [
    "text1.common_contexts([\"knife\", \"live\"])"
   ]
  },
  {
   "cell_type": "code",
   "execution_count": 81,
   "metadata": {
    "collapsed": false
   },
   "outputs": [
    {
     "name": "stdout",
     "output_type": "stream",
     "text": [
      "mi_, su_,\n"
     ]
    }
   ],
   "source": [
    "quijote_text.common_contexts([\"asno\", \"doncella\"])"
   ]
  },
  {
   "cell_type": "code",
   "execution_count": 83,
   "metadata": {
    "collapsed": false
   },
   "outputs": [
    {
     "name": "stdout",
     "output_type": "stream",
     "text": [
      "del_, el_y mi_que al_, del_y mi_, el_, su_y su_, un_. un_rucio su_.\n",
      "un_, el_de del_abajo al_de\n"
     ]
    }
   ],
   "source": [
    "quijote_text.common_contexts([\"asno\", \"caballo\"])"
   ]
  },
  {
   "cell_type": "code",
   "execution_count": 85,
   "metadata": {
    "collapsed": false
   },
   "outputs": [
    {
     "name": "stdout",
     "output_type": "stream",
     "text": [
      "el_,\n"
     ]
    }
   ],
   "source": [
    "quijote_text.common_contexts([\"asno\", \"caballo\", \"perro\"])"
   ]
  },
  {
   "cell_type": "code",
   "execution_count": 86,
   "metadata": {
    "collapsed": false
   },
   "outputs": [
    {
     "name": "stdout",
     "output_type": "stream",
     "text": [
      "el_, un_de\n"
     ]
    }
   ],
   "source": [
    "quijote_text.common_contexts([\"gato\", \"caballo\", \"perro\"])"
   ]
  },
  {
   "cell_type": "markdown",
   "metadata": {},
   "source": [
    "## Location of a word in text\n",
    "\n",
    "- numpy and matplotlib are required for drawing dispersion plots"
   ]
  },
  {
   "cell_type": "code",
   "execution_count": 88,
   "metadata": {
    "collapsed": false
   },
   "outputs": [
    {
     "data": {
      "image/png": "[encoded data removed]",
      "text/plain": [
       "<matplotlib.figure.Figure at 0x7f16fb835290>"
      ]
     },
     "metadata": {},
     "output_type": "display_data"
    }
   ],
   "source": [
    "text4.dispersion_plot([\"citizens\", \"democracy\", \"freedom\", \"duties\", \"America\"])"
   ]
  },
  {
   "cell_type": "code",
   "execution_count": 94,
   "metadata": {
    "collapsed": false
   },
   "outputs": [
    {
     "data": {
      "image/png": "[encoded data removed]",
      "text/plain": [
       "<matplotlib.figure.Figure at 0x7f16f75094d0>"
      ]
     },
     "metadata": {},
     "output_type": "display_data"
    }
   ],
   "source": [
    "quijote_text.dispersion_plot([\"Rocinante\",\"Sancho\",\"Dulcinea\",\"libertad\",\"loco\",\"muerte\",\"amor\"])"
   ]
  },
  {
   "cell_type": "code",
   "execution_count": 98,
   "metadata": {
    "collapsed": false
   },
   "outputs": [
    {
     "data": {
      "image/png": "[encoded data removed]",
      "text/plain": [
       "<matplotlib.figure.Figure at 0x7f16f721b790>"
      ]
     },
     "metadata": {},
     "output_type": "display_data"
    }
   ],
   "source": [
    "quijote_text.dispersion_plot([\"amor\",\"suerte\"])"
   ]
  },
  {
   "cell_type": "markdown",
   "metadata": {},
   "source": [
    "## Counting tokens"
   ]
  },
  {
   "cell_type": "code",
   "execution_count": 115,
   "metadata": {
    "collapsed": false
   },
   "outputs": [
    {
     "data": {
      "text/plain": [
       "441842"
      ]
     },
     "execution_count": 115,
     "metadata": {},
     "output_type": "execute_result"
    }
   ],
   "source": [
    "len(quijote_text)"
   ]
  },
  {
   "cell_type": "code",
   "execution_count": 102,
   "metadata": {
    "collapsed": false
   },
   "outputs": [],
   "source": [
    "ordered_tkns = sorted(set(quijote_text))"
   ]
  },
  {
   "cell_type": "code",
   "execution_count": 107,
   "metadata": {
    "collapsed": false
   },
   "outputs": [
    {
     "data": {
      "text/plain": [
       "[u\"''D\\xe9\", u\"''Ellos\", u\"''En\", u\"''Esas\", u\"''Eso\"]"
      ]
     },
     "execution_count": 107,
     "metadata": {},
     "output_type": "execute_result"
    }
   ],
   "source": [
    "ordered_tkns[24:29]"
   ]
  },
  {
   "cell_type": "code",
   "execution_count": 109,
   "metadata": {
    "collapsed": false
   },
   "outputs": [
    {
     "data": {
      "text/plain": [
       "26442"
      ]
     },
     "execution_count": 109,
     "metadata": {},
     "output_type": "execute_result"
    }
   ],
   "source": [
    "len(ordered_tkns) # number of distinct types"
   ]
  },
  {
   "cell_type": "code",
   "execution_count": 117,
   "metadata": {
    "collapsed": false
   },
   "outputs": [
    {
     "data": {
      "text/plain": [
       "0.059844921940422145"
      ]
     },
     "execution_count": 117,
     "metadata": {},
     "output_type": "execute_result"
    }
   ],
   "source": [
    "# Richness of the text:\n",
    "from __future__ import division\n",
    "len(ordered_tkns) / len(quijote_text)"
   ]
  },
  {
   "cell_type": "code",
   "execution_count": 118,
   "metadata": {
    "collapsed": false
   },
   "outputs": [
    {
     "data": {
      "text/plain": [
       "1623"
      ]
     },
     "execution_count": 118,
     "metadata": {},
     "output_type": "execute_result"
    }
   ],
   "source": [
    "quijote_text.count(\"Sancho\")"
   ]
  },
  {
   "cell_type": "code",
   "execution_count": 119,
   "metadata": {
    "collapsed": false
   },
   "outputs": [
    {
     "data": {
      "text/plain": [
       "277"
      ]
     },
     "execution_count": 119,
     "metadata": {},
     "output_type": "execute_result"
    }
   ],
   "source": [
    "quijote_text.count(\"Dulcinea\")"
   ]
  },
  {
   "cell_type": "markdown",
   "metadata": {},
   "source": [
    "### Frequency distributions"
   ]
  },
  {
   "cell_type": "code",
   "execution_count": 121,
   "metadata": {
    "collapsed": true
   },
   "outputs": [],
   "source": [
    "fdQuijote = FreqDist(quijote_text)"
   ]
  },
  {
   "cell_type": "code",
   "execution_count": 122,
   "metadata": {
    "collapsed": false
   },
   "outputs": [
    {
     "name": "stdout",
     "output_type": "stream",
     "text": [
      "<FreqDist with 26442 samples and 441842 outcomes>\n"
     ]
    }
   ],
   "source": [
    "print(fdQuijote)"
   ]
  },
  {
   "cell_type": "code",
   "execution_count": 124,
   "metadata": {
    "collapsed": false
   },
   "outputs": [
    {
     "data": {
      "text/plain": [
       "[(u',', 40320),\n",
       " (u'que', 20520),\n",
       " (u'de', 17992),\n",
       " (u'y', 17155),\n",
       " (u'la', 10201),\n",
       " (u'a', 9580),\n",
       " (u'.', 8086),\n",
       " (u'el', 7959),\n",
       " (u'en', 7900),\n",
       " (u'no', 5766)]"
      ]
     },
     "execution_count": 124,
     "metadata": {},
     "output_type": "execute_result"
    }
   ],
   "source": [
    "fdQuijote.most_common(10)"
   ]
  },
  {
   "cell_type": "code",
   "execution_count": 126,
   "metadata": {
    "collapsed": false
   },
   "outputs": [
    {
     "data": {
      "text/plain": [
       "1623"
      ]
     },
     "execution_count": 126,
     "metadata": {},
     "output_type": "execute_result"
    }
   ],
   "source": [
    "fdQuijote['Sancho']"
   ]
  },
  {
   "cell_type": "code",
   "execution_count": 129,
   "metadata": {
    "collapsed": false
   },
   "outputs": [
    {
     "data": {
      "image/png": "[encoded data removed]",
      "text/plain": [
       "<matplotlib.figure.Figure at 0x7f16f71bae50>"
      ]
     },
     "metadata": {},
     "output_type": "display_data"
    }
   ],
   "source": [
    "fdQuijote.plot(40, cumulative=True)"
   ]
  },
  {
   "cell_type": "markdown",
   "metadata": {},
   "source": [
    "## Word selection"
   ]
  },
  {
   "cell_type": "code",
   "execution_count": 133,
   "metadata": {
    "collapsed": false
   },
   "outputs": [],
   "source": [
    "# Words with just one occurrence\n",
    "rareWords = fdQuijote.hapaxes()"
   ]
  },
  {
   "cell_type": "code",
   "execution_count": 134,
   "metadata": {
    "collapsed": false
   },
   "outputs": [
    {
     "data": {
      "text/plain": [
       "[u'\\xbfventa',\n",
       " u'acurruc\\xf3',\n",
       " u't\\xeda',\n",
       " u'-Pintad',\n",
       " u'gastara',\n",
       " u'Jerusal\\xe9n',\n",
       " u'llanas',\n",
       " u'receiving',\n",
       " u'arrastradas']"
      ]
     },
     "execution_count": 134,
     "metadata": {},
     "output_type": "execute_result"
    }
   ],
   "source": [
    "rareWords[1:10]"
   ]
  },
  {
   "cell_type": "code",
   "execution_count": 137,
   "metadata": {
    "collapsed": false
   },
   "outputs": [
    {
     "data": {
      "text/plain": [
       "[u'//gutenberg.net/license',\n",
       " u'//pglaf.org/donate',\n",
       " u'//pglaf.org/fundraising',\n",
       " u'//www.gutenberg.net',\n",
       " u'//www.gutenberg.org/2/0/0/2000/',\n",
       " u'asombrado.Pregunt\\xf3',\n",
       " u'bienintencionadamente',\n",
       " u'correspondi\\xe9ndoles',\n",
       " u'desembarazadamente',\n",
       " u'estraordinariamente',\n",
       " u'extraordinariamente',\n",
       " u'trademark/copyright',\n",
       " u'\\xa1Desagradecimiento']"
      ]
     },
     "execution_count": 137,
     "metadata": {},
     "output_type": "execute_result"
    }
   ],
   "source": [
    "# Long words\n",
    "long_words = [w for w in ordered_tkns if len(w) > 17]\n",
    "sorted(long_words)"
   ]
  },
  {
   "cell_type": "code",
   "execution_count": 146,
   "metadata": {
    "collapsed": false
   },
   "outputs": [
    {
     "data": {
      "text/plain": [
       "[u'-respondi\\xf3',\n",
       " u'Rocinante',\n",
       " u'aventuras',\n",
       " u'bachiller',\n",
       " u'caballero',\n",
       " u'caballeros',\n",
       " u'caballer\\xeda',\n",
       " u'gobernador',\n",
       " u'hermosura',\n",
       " u'intenci\\xf3n',\n",
       " u'pensamientos',\n",
       " u'respondi\\xf3']"
      ]
     },
     "execution_count": 146,
     "metadata": {},
     "output_type": "execute_result"
    }
   ],
   "source": [
    "sorted(w for w in ordered_tkns if len(w) > 8 and fdQuijote[w] > 85)"
   ]
  },
  {
   "cell_type": "markdown",
   "metadata": {},
   "source": [
    "### Collocation and bigrams"
   ]
  },
  {
   "cell_type": "code",
   "execution_count": 147,
   "metadata": {
    "collapsed": false
   },
   "outputs": [
    {
     "name": "stdout",
     "output_type": "stream",
     "text": [
      "vuestra merced; Sancho Panza; -respondió Sancho-; vuesa merced;\n",
      "caballeros andantes; -dijo Sancho-; los ojos; todos los; del Toboso;\n",
      "otra cosa; caballero andante; sin duda; las manos; todas las; Project\n",
      "Gutenberg-tm; muchas veces; señora Dulcinea; cada uno; Triste Figura;\n",
      "los dos\n"
     ]
    }
   ],
   "source": [
    "quijote_text.collocations()"
   ]
  },
  {
   "cell_type": "code",
   "execution_count": 148,
   "metadata": {
    "collapsed": false
   },
   "outputs": [
    {
     "name": "stdout",
     "output_type": "stream",
     "text": [
      "United States; fellow citizens; four years; years ago; Federal\n",
      "Government; General Government; American people; Vice President; Old\n",
      "World; Almighty God; Fellow citizens; Chief Magistrate; Chief Justice;\n",
      "God bless; every citizen; Indian tribes; public debt; one another;\n",
      "foreign nations; political parties\n"
     ]
    }
   ],
   "source": [
    "text4.collocations()"
   ]
  },
  {
   "cell_type": "code",
   "execution_count": null,
   "metadata": {
    "collapsed": true
   },
   "outputs": [],
   "source": []
  }
 ],
 "metadata": {
  "anaconda-cloud": {},
  "kernelspec": {
   "display_name": "Python [default]",
   "language": "python",
   "name": "python2"
  },
  "language_info": {
   "codemirror_mode": {
    "name": "ipython",
    "version": 2
   },
   "file_extension": ".py",
   "mimetype": "text/x-python",
   "name": "python",
   "nbconvert_exporter": "python",
   "pygments_lexer": "ipython2",
   "version": "2.7.12"
  }
 },
 "nbformat": 4,
 "nbformat_minor": 1
}
